{
  "cells": [
    {
      "cell_type": "code",
      "execution_count": null,
      "metadata": {
        "colab": {
          "base_uri": "https://localhost:8080/"
        },
        "id": "-z3j09Za290C",
        "outputId": "15f3defb-8384-4522-c7ab-88f53e4e81b9"
      },
      "outputs": [
        {
          "name": "stdout",
          "output_type": "stream",
          "text": [
            "Requirement already satisfied: patool in /usr/local/lib/python3.10/dist-packages (2.1.1)\n"
          ]
        }
      ],
      "source": [
        "!pip install patool"
      ]
    },
    {
      "cell_type": "code",
      "execution_count": null,
      "metadata": {
        "colab": {
          "base_uri": "https://localhost:8080/"
        },
        "id": "qOcwX_I03Fqf",
        "outputId": "b59da139-31fc-4604-d188-e2ce2a935e42"
      },
      "outputs": [
        {
          "name": "stdout",
          "output_type": "stream",
          "text": [
            "Requirement already satisfied: python-chess in /usr/local/lib/python3.10/dist-packages (1.999)\n",
            "Requirement already satisfied: chess<2,>=1 in /usr/local/lib/python3.10/dist-packages (from python-chess) (1.10.0)\n"
          ]
        }
      ],
      "source": [
        "!pip install python-chess"
      ]
    },
    {
      "cell_type": "code",
      "execution_count": null,
      "metadata": {
        "id": "d3hPP9mG3JiZ"
      },
      "outputs": [],
      "source": [
        "import chess\n",
        "import numpy as np\n",
        "import pandas as pd\n",
        "import patoolib\n",
        "\n",
        "from sklearn.model_selection import train_test_split\n",
        "\n",
        "import tensorflow as tf"
      ]
    },
    {
      "cell_type": "code",
      "execution_count": null,
      "metadata": {
        "id": "XQv_HgaQ3PA1"
      },
      "outputs": [],
      "source": [
        "example_fen = 'rnbqkbnr/pppppppp/8/8/4P3/8/PPPP1PPP/RNBQKBNR b KQkq - 0 1'"
      ]
    },
    {
      "cell_type": "code",
      "execution_count": null,
      "metadata": {
        "id": "7HOGWlGP3ora"
      },
      "outputs": [],
      "source": [
        "boardExample = chess.Board(example_fen)"
      ]
    },
    {
      "cell_type": "code",
      "execution_count": null,
      "metadata": {
        "id": "3ICv39KP3uiI"
      },
      "outputs": [],
      "source": [
        "def bitboard(fen):\n",
        "  board = chess.Board(fen)\n",
        "  pieces = [chess.PAWN, chess.KNIGHT, chess.BISHOP, chess.ROOK, chess.QUEEN, chess.KING]\n",
        "  colors = [chess.WHITE, chess.BLACK]\n",
        "  result = []\n",
        "  for color in colors:\n",
        "    for piece in pieces:\n",
        "      pieceArray = board.pieces(piece, color)\n",
        "      pieceList = np.array(pieceArray.tolist())\n",
        "      pieceList = np.reshape(pieceList, (8, 8)).astype(int)\n",
        "      result.append(pieceList)\n",
        "  result = np.array(result)\n",
        "  rotated = np.transpose(result, axes=(1, 2, 0))\n",
        "  return rotated"
      ]
    },
    {
      "cell_type": "code",
      "execution_count": null,
      "metadata": {
        "id": "tru6Re7s8dj9"
      },
      "outputs": [],
      "source": [
        "data = pd.read_csv(\"chessData.csv\")"
      ]
    },
    {
      "cell_type": "code",
      "execution_count": null,
      "metadata": {
        "id": "v8HbOokC-FKX"
      },
      "outputs": [],
      "source": [
        "X = []\n",
        "Y = []\n",
        "amount = 100 # rows of data\n",
        "for index in data.index[:amount]:\n",
        "  row = data.iloc[index]\n",
        "  fen = row['FEN']\n",
        "  eval = row['Evaluation']\n",
        "  bitmap = bitboard(fen)\n",
        "  if '#' in eval:\n",
        "    eval = eval[1:]\n",
        "  eval = int(eval)\n",
        "  X.append(bitmap)\n",
        "  Y.append(eval)\n",
        "X = np.array(X)\n",
        "Y = np.array(Y)"
      ]
    },
    {
      "cell_type": "code",
      "execution_count": null,
      "metadata": {
        "colab": {
          "base_uri": "https://localhost:8080/"
        },
        "id": "WBvVvGF8CILE",
        "outputId": "4fb51473-b2ba-4680-cf9a-f0e0d3049dbb"
      },
      "outputs": [
        {
          "data": {
            "text/plain": [
              "(100, 8, 8, 12)"
            ]
          },
          "execution_count": 50,
          "metadata": {},
          "output_type": "execute_result"
        }
      ],
      "source": [
        "X.shape"
      ]
    },
    {
      "cell_type": "code",
      "execution_count": null,
      "metadata": {
        "id": "JDihC_wZBs3w"
      },
      "outputs": [],
      "source": [
        "# Neural network part\n",
        "i = tf.keras.layers.Input((8, 8, 12))\n",
        "x1 = tf.keras.layers.Conv2D(16, (3, 3), activation = 'relu')(i)\n",
        "x2 = tf.keras.layers.Conv2D(8, (3, 3), activation = 'relu')(x1)\n",
        "x3 = tf.keras.layers.Conv2D(4, (3, 3), activation = 'relu')(x2)\n",
        "f1 = tf.keras.layers.Flatten()(x3)\n",
        "d1 = tf.keras.layers.Dense(32, activation = 'relu')(f1)\n",
        "d2 = tf.keras.layers.Dense(16, activation = 'relu')(d1)\n",
        "d3 = tf.keras.layers.Dense(1)(d2) # This is the final value (evaluation) that the model will output.\n",
        "\n",
        "model = tf.keras.models.Model(inputs=i, outputs = d3)\n",
        "\n",
        "\n",
        "\n",
        "\n",
        "\n"
      ]
    },
    {
      "cell_type": "code",
      "execution_count": null,
      "metadata": {
        "colab": {
          "base_uri": "https://localhost:8080/"
        },
        "id": "wwKifAylHBdP",
        "outputId": "03fe34b6-176e-4058-ba93-a7fc327dbfae"
      },
      "outputs": [
        {
          "name": "stdout",
          "output_type": "stream",
          "text": [
            "Model: \"model\"\n",
            "_________________________________________________________________\n",
            " Layer (type)                Output Shape              Param #   \n",
            "=================================================================\n",
            " input_5 (InputLayer)        [(None, 8, 8, 12)]        0         \n",
            "                                                                 \n",
            " conv2d_9 (Conv2D)           (None, 6, 6, 16)          1744      \n",
            "                                                                 \n",
            " conv2d_10 (Conv2D)          (None, 4, 4, 8)           1160      \n",
            "                                                                 \n",
            " conv2d_11 (Conv2D)          (None, 2, 2, 4)           292       \n",
            "                                                                 \n",
            " flatten_3 (Flatten)         (None, 16)                0         \n",
            "                                                                 \n",
            " dense_9 (Dense)             (None, 32)                544       \n",
            "                                                                 \n",
            " dense_10 (Dense)            (None, 16)                528       \n",
            "                                                                 \n",
            " dense_11 (Dense)            (None, 1)                 17        \n",
            "                                                                 \n",
            "=================================================================\n",
            "Total params: 4285 (16.74 KB)\n",
            "Trainable params: 4285 (16.74 KB)\n",
            "Non-trainable params: 0 (0.00 Byte)\n",
            "_________________________________________________________________\n"
          ]
        }
      ],
      "source": [
        "model.summary()"
      ]
    },
    {
      "cell_type": "code",
      "execution_count": null,
      "metadata": {
        "id": "TtlQ6QegIBwn"
      },
      "outputs": [],
      "source": [
        "model.compile(loss = 'mse',\n",
        "              optimizer = 'adam',\n",
        "              metrics = ['mse'])"
      ]
    },
    {
      "cell_type": "code",
      "execution_count": null,
      "metadata": {
        "id": "MFJ-U6IIHdUf"
      },
      "outputs": [],
      "source": [
        "# Training the model\n",
        "x_train, x_test, y_train, y_test = train_test_split(X, Y, test_size = 0.2) # 20% data for testing, and 80% data for training."
      ]
    },
    {
      "cell_type": "code",
      "execution_count": null,
      "metadata": {
        "id": "sTA_PMiQIQQi"
      },
      "outputs": [],
      "source": [
        "model.fit(x_train, y_train, epochs = 500, batch_size = 4) # epochs is basically how many times it iterates through your data. batch_s"
      ]
    },
    {
      "cell_type": "code",
      "execution_count": null,
      "metadata": {
        "id": "EfJ5DF3qL8it"
      },
      "outputs": [],
      "source": [
        "def findMove(fen, turn='white'):\n",
        "  board = chess.Board(fen)\n",
        "  turn = 'white'\n",
        "  if turn == 'white':\n",
        "    bestMove = ''\n",
        "    bestEval = -1000000\n",
        "    newBoard = ''\n",
        "    for move in board.legal_moves:\n",
        "      boardCopy = board.copy()\n",
        "      boardCopy.push(move)\n",
        "      bitmap = bitboard(boardCopy.fen())\n",
        "      bitmap = np.reshape(bitmap, (1, 8, 8, 12))\n",
        "      eval = model.predict(bitmap, verbose=False)\n",
        "      if eval > bestEval:\n",
        "        bestEval = eval\n",
        "        bestMove = move\n",
        "        newBoard = boardCopy\n",
        "  else:\n",
        "    bestMove = ''\n",
        "    bestEval = 1000000\n",
        "    newBoard = ''\n",
        "    for move in board.legal_moves:\n",
        "      boardCopy = board.copy()\n",
        "      boardCopy.push(move)\n",
        "      bitmap = bitboard(boardCopy.fen())\n",
        "      bitmap = np.reshape(bitmap, (1, 8, 8, 12))\n",
        "      eval = model.predict(bitmap, verbose=False)\n",
        "      if eval < bestEval:\n",
        "        bestEval = eval\n",
        "        bestMove = move\n",
        "        newBoard = boardCopy\n",
        "  return bestMove"
      ]
    },
    {
      "cell_type": "code",
      "execution_count": null,
      "metadata": {
        "colab": {
          "background_save": true,
          "base_uri": "https://localhost:8080/"
        },
        "id": "iWjbqHpcL3yz",
        "outputId": "6a6848ac-5a40-4777-fad1-04724e53b882"
      },
      "outputs": [
        {
          "name": "stdout",
          "output_type": "stream",
          "text": [
            "r n b q k b n r\n",
            "p p p p p p p p\n",
            ". . . . . . . .\n",
            ". . . . . . . .\n",
            ". . . . P . . .\n",
            ". . . . . . . .\n",
            "P P P P . P P P\n",
            "R N B Q K B N R\n",
            "\n",
            "\n",
            "r n b q k b n r\n",
            "p p p . p p p p\n",
            ". . . . . . . .\n",
            ". . . p . . . .\n",
            ". . . . P . . .\n",
            ". . N . . . . .\n",
            "P P P P . P P P\n",
            "R . B Q K B N R\n",
            "\n",
            "\n",
            "r . b q k b n r\n",
            "p p p n p p p p\n",
            ". . . . . . . .\n",
            ". . . P . . . .\n",
            ". . . . . . . .\n",
            ". . N . . . . .\n",
            "P P P P . P P P\n",
            "R . B Q K B N R\n",
            "\n",
            "\n",
            "r . b q k b n r\n",
            "p p p n . p p p\n",
            ". . . . p . . .\n",
            ". . . P . . . .\n",
            ". . . . . . . .\n",
            ". . N P . . . .\n",
            "P P P . . P P P\n",
            "R . B Q K B N R\n",
            "\n",
            "\n",
            "r . b q k b n r\n",
            "p p p n . . p p\n",
            ". . . . p . . .\n",
            ". . . . . . . .\n",
            ". . . . . . . .\n",
            ". . N P . . . .\n",
            "P P P . . P P P\n",
            "R . B Q K B N R\n",
            "\n",
            "\n",
            "r . b Q . b n r\n",
            "p p p n . k p p\n",
            ". . . . p . . .\n",
            ". . . . . . . .\n",
            ". . . . . . . .\n",
            ". . N P . . . .\n",
            "P P P . . P P P\n",
            "R . B . K B N R\n",
            "\n",
            "\n",
            "r . b . . b . r\n",
            "p p p n . Q p p\n",
            ". . . . p n . .\n",
            ". . . . . . . .\n",
            ". . . . . . . .\n",
            ". . N P . . . .\n",
            "P P P . . P P P\n",
            "R . B . K B N R\n"
          ]
        }
      ],
      "source": [
        "startBoard = chess.Board('rnbqkbnr/pppppppp/8/8/4P3/8/PPPP1PPP/RNBQKBNR w KQkq - 0 1')\n",
        "print(startBoard)\n",
        "userinput = input('Enter your first move: ')\n",
        "while userinput != 'end':\n",
        "  move = chess.Move.from_uci(userinput)\n",
        "  startBoard.push(move)\n",
        "  botMove = findMove(startBoard.fen(), turn = 'black')\n",
        "  startBoard.push(botMove)\n",
        "  print()\n",
        "  print()\n",
        "  print(startBoard)\n",
        "  userinput = input('Enter your next move: ')"
      ]
    }
  ],
  "metadata": {
    "colab": {
      "provenance": []
    },
    "kernelspec": {
      "display_name": "Python 3",
      "name": "python3"
    },
    "language_info": {
      "name": "python"
    }
  },
  "nbformat": 4,
  "nbformat_minor": 0
}